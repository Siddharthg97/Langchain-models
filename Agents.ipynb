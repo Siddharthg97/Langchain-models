{
 "cells": [
  {
   "cell_type": "code",
   "execution_count": null,
   "id": "5464f74a",
   "metadata": {},
   "outputs": [],
   "source": [
    "# * Using built in LangChain tools: DuckDuckGo search and Wikipedia\n",
    "# * Defining your own tools"
   ]
  }
 ],
 "metadata": {
  "language_info": {
   "name": "python"
  }
 },
 "nbformat": 4,
 "nbformat_minor": 5
}
